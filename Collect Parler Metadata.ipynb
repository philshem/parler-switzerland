{
 "cells": [
  {
   "cell_type": "markdown",
   "metadata": {},
   "source": [
    "download and unzip raw data"
   ]
  },
  {
   "cell_type": "code",
   "execution_count": null,
   "metadata": {},
   "outputs": [],
   "source": [
    "!wget https://srv-store6.gofile.io/download/7Wg83o/parler-videos-geocoded.csv.zip && unzip -o parler-videos-geocoded.csv.zip"
   ]
  },
  {
   "cell_type": "code",
   "execution_count": null,
   "metadata": {},
   "outputs": [],
   "source": [
    "import pandas as pd\n",
    "import datetime"
   ]
  },
  {
   "cell_type": "code",
   "execution_count": null,
   "metadata": {},
   "outputs": [],
   "source": [
    "metadata = pd.read_csv('parler-videos-geocoded.csv')\n",
    "len(metadata)"
   ]
  },
  {
   "cell_type": "code",
   "execution_count": null,
   "metadata": {},
   "outputs": [],
   "source": [
    "def geocoded():\n",
    "    for i,m in metadata.iterrows():\n",
    "        lon = m['Longitude']\n",
    "        lat = m['Latitude']\n",
    "        created = m['Timestamp']\n",
    "        video_id = m['ID']\n",
    "        created = datetime.datetime.strptime(created, '%Y-%m-%d %H:%M:%S')\n",
    "        if lon != 0.0 and lat != 0.0:\n",
    "            yield (lon, lat, created, video_id)\n",
    "            \n",
    "# collect all geocoded data\n",
    "collected = list(geocoded())\n",
    "\n",
    "print(len(collected))"
   ]
  },
  {
   "cell_type": "markdown",
   "metadata": {},
   "source": [
    "Define bounding box and start date."
   ]
  },
  {
   "cell_type": "code",
   "execution_count": null,
   "metadata": {},
   "outputs": [],
   "source": [
    "# capitol only\n",
    "# top,left = [38.892110, -77.015188]\n",
    "# bottom,right = [38.887619, -77.005959]\n",
    "\n",
    "# dc area\n",
    "#top,left = [38.978921, -77.140698]\n",
    "#bottom,right = [38.808277, -76.914339]\n",
    "\n",
    "# switzerland\n",
    "top,left = [47.8308275417, 6.02260949059 ]\n",
    "bottom,right = [45.7769477403, 10.4427014502]\n",
    "\n",
    "#start = datetime.datetime(2021,1,5)\n",
    "start = datetime.datetime(1999,1,1)"
   ]
  },
  {
   "cell_type": "code",
   "execution_count": null,
   "metadata": {},
   "outputs": [],
   "source": [
    "to_download = []\n",
    "for lon,lat,created,video_id in collected:\n",
    "    if lon < left or lon > right or lat > top or lat < bottom:\n",
    "        continue\n",
    "    if created < start:\n",
    "        continue\n",
    "    to_download.append(video_id)\n",
    "    \n",
    "len(to_download)"
   ]
  },
  {
   "cell_type": "markdown",
   "metadata": {},
   "source": [
    "Save all urls to a text file."
   ]
  },
  {
   "cell_type": "code",
   "execution_count": null,
   "metadata": {},
   "outputs": [],
   "source": [
    "with open('switzerland.txt', 'w') as f:\n",
    "    for e in to_download:\n",
    "        f.write(f'https://video.parler.com/{e[:2]}/{e[2:4]}/{e}.mp4\\n')"
   ]
  },
  {
   "cell_type": "raw",
   "metadata": {},
   "source": [
    "Download all urls\n",
    "\n",
    "Add `8.240.242.124 video.parler.com` to your `/etc/hosts` file."
   ]
  },
  {
   "cell_type": "code",
   "execution_count": null,
   "metadata": {},
   "outputs": [],
   "source": [
    "!mkdir -p videos && cd videos && wget -i switzerland.txt"
   ]
  }
 ],
 "metadata": {
  "kernelspec": {
   "display_name": "Python 3",
   "language": "python",
   "name": "python3"
  },
  "language_info": {
   "codemirror_mode": {
    "name": "ipython",
    "version": 3
   },
   "file_extension": ".py",
   "mimetype": "text/x-python",
   "name": "python",
   "nbconvert_exporter": "python",
   "pygments_lexer": "ipython3",
   "version": "3.8.2"
  }
 },
 "nbformat": 4,
 "nbformat_minor": 4
}
